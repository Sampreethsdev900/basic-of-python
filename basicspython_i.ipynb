{
  "nbformat": 4,
  "nbformat_minor": 0,
  "metadata": {
    "colab": {
      "provenance": []
    },
    "kernelspec": {
      "name": "python3",
      "display_name": "Python 3"
    },
    "language_info": {
      "name": "python"
    }
  },
  "cells": [
    {
      "cell_type": "markdown",
      "source": [
        "# BASIC OF PYTHON"
      ],
      "metadata": {
        "id": "WuhUOvW7lQ27"
      }
    },
    {
      "cell_type": "markdown",
      "source": [
        "#theory questions\n"
      ],
      "metadata": {
        "id": "85UwbN0olSaa"
      }
    },
    {
      "cell_type": "markdown",
      "source": [
        "1. What is Python, and why is it popular ?\n",
        "-Python is a high-level, interpreted programming language known for its simplicity, readability, and versatility.\n",
        "Easy to Learn and Use:\n",
        "Python has a clean and straightforward syntax, making it ideal for beginners.\n",
        "\n",
        "Versatile:\n",
        "It’s used in many fields, including:\n",
        "\n",
        "Web development (Django, Flask)\n",
        "\n",
        "Data science and machine learning (pandas, NumPy, scikit-learn, TensorFlow)\n",
        "\n",
        "Automation and scripting\n",
        "\n",
        "Game development\n",
        "\n",
        "Cybersecurity\n",
        "\n",
        "Large Standard Library:\n",
        "Python comes with many built-in modules and functions to handle various tasks without needing extra installations.\n",
        "\n",
        "Huge Community Support:\n",
        "A large global community means more tutorials, libraries, forums, and resources.\n",
        "\n",
        "\n",
        "2.What is an interpreter in Python ?\n",
        "-In Python, an interpreter is a program that reads and executes code line by line, rather than compiling the entire code?\n",
        " into machine language beforehand (like a compiler does).\n",
        "\n",
        "3.What are pre-defined keywords in Python ?\n",
        "-Pre-defined keywords in Python (also called reserved keywords) are special words that have specific meanings in the language. These words are part of Python’s syntax and cannot be used as variable names, function names, or identifiers.\n",
        "\n",
        "\n",
        "4.Can keywords be used as variable names ?\n",
        "-No, keywords cannot be used as variable names in Python.\n",
        "\n",
        "Python keywords are reserved words that have special meaning in the language's syntax. Examples include if, else, for, while, class, def, return, etc. Trying to use them as variable names will result in a SyntaxError.\n",
        "\n",
        "\n",
        "5.What is mutability in Python ?\n",
        "Mutability in Python refers to whether or not an object can be changed after it's created.\n",
        "\n",
        "Mutable objects: Can be changed in place — their contents (values, elements, etc.) can be modified without changing their identity.\n",
        "\n",
        "\n",
        "\n",
        "\n",
        "6.Why are lists mutable, but tuples are immutable ?\n",
        "-Why Lists Are Mutable:\n",
        "Intended for dynamic data: Lists are designed to store collections of items that may change over time (e.g., adding, removing, or updating elements).\n",
        "\n",
        "Methods support change: Lists come with methods like .append(), .remove(), .pop(), etc., which allow modifications.\n",
        "\n",
        "Stored as dynamic arrays: Internally, lists are implemented as dynamic arrays, making element updates and resizing efficient.\n",
        "Why Tuples Are Immutable:\n",
        "Designed for fixed data: Tuples are intended to store constant, hashable data — often used as keys in dictionaries or elements in sets.\n",
        "\n",
        "No modifying methods: Tuples lack methods that alter content (e.g., no .append() or .remove()).\n",
        "\n",
        "Safety and optimization: Immutability makes tuples more memory-efficient and hashable, which is useful for caching and keying in data structures.\n",
        "\n",
        "\n",
        "\n",
        "7.What is the difference between “==” and “is” operators in Python ?\n",
        "-The difference between == and is in Python lies in what they compare:\n",
        "\n",
        "🔸 == → Equality Operator\n",
        "Compares values of two objects.\n",
        "\n",
        "Returns True if the contents are equal, even if they are different objects.\n",
        "🔸 is → Identity Operator\n",
        "Compares identities (i.e., memory addresses).\n",
        "\n",
        "Returns True if both variables point to the same object in memory.\n",
        "\n",
        "\n",
        "8.What are logical operators in Python ?\n",
        "-n Python, logical operators are used to combine multiple boolean expressions (conditions) and return a boolean result (True or False). There are three logical operators:\n",
        "\n",
        "\n",
        "9.what is type casting?\n",
        "-Type casting in Python refers to converting a value from one data type to another, either implicitly or explicitly.\n",
        "\n",
        "\n",
        "10.What is the difference between implicit and explicit type casting ?\n",
        "-The main difference between implicit and explicit type casting in Python lies in who controls the conversion of the data type — whether it's the Python interpreter doing it automatically, or you (the programmer) specifying it.\n",
        "\n",
        "🔸 Implicit Type Casting (Automatic)\n",
        "Python does it for you: The Python interpreter automatically converts a smaller or compatible data type to a larger or more compatible one, without you asking for it.\n",
        "\n",
        "Occurs in expressions when an operation requires different data types.\n",
        "\n",
        "No loss of information occurs when converting to a larger type (e.g., from int to float).\n",
        "🔸 Explicit Type Casting (Manual)\n",
        "You tell Python how to convert the data type.\n",
        "\n",
        "You use built-in functions like int(), float(), str(), etc.\n",
        "\n",
        "This can lead to loss of information (e.g., converting a float to an int will discard the decimal part).\n",
        "\n",
        "\n",
        "\n",
        "\n",
        "11.What is the purpose of conditional statements in Python ?\n",
        "-Conditional statements in Python are used to make decisions in your code. They allow the program to execute certain blocks of code only if specific conditions are met. This helps control the flow of the program based on different inputs or situations.\n",
        "\n",
        "🔸 Purpose of Conditional Statements:\n",
        "Decision-making: Allow the program to choose between different actions based on the truth value of certain conditions.\n",
        "\n",
        "Flow control: Determine which part of the code will be executed.\n",
        "\n",
        "Implementing logic: Enable the program to behave differently depending on inputs, environment, or states.\n",
        "\n",
        "\n",
        "\n",
        "12.How does the elif statement work ?\n",
        "-Starts after an if statement: The elif statement is used only after an if and before an else statement (if there is one).\n",
        "\n",
        "Checks additional conditions: If the first condition in the if statement is False, Python checks each subsequent elif condition in order.\n",
        "\n",
        "Only one condition is executed: As soon as Python finds the first True condition, the corresponding block of code is executed, and the rest of the elif conditions are ignored. If no elif condition is True, the else block (if provided) is executed.\n",
        "\n",
        "\n",
        "13.What is the difference between for and while loops ?\n",
        "- while Loop\n",
        "A while loop is used when you want to repeat a block of code as long as a condition is True.\n",
        "\n",
        "It continues running the code as long as the condition evaluates to True (and stops when the condition becomes False).\n",
        "\n",
        "for Loop\n",
        "A for loop is used when you know exactly how many times you want to iterate or when you want to iterate over a sequence (like a list, tuple, or string).\n",
        "\n",
        "It iterates over a collection (e.g., a range, list, or string), executing the block of code for each item in the collection.\n",
        "\n",
        "\n",
        "14.Describe a scenario where a while loop is more suitable than a for loop?\n",
        "-A while loop is more suitable than a for loop when you don't know in advance how many iterations are required and when the loop needs to continue until a certain condition is met.\n",
        "\n",
        "Scenario: User Login System\n",
        "Imagine you're building a simple login system where you want the user to have multiple attempts to enter the correct username and password. However, you don't know in advance how many attempts the user might need. You only want to allow a certain number of attempts, and the loop should continue until the user either enters the correct credentials or exceeds the maximum allowed attempts.\n",
        "\n",
        "Why a while loop?\n",
        "The number of attempts is unknown.\n",
        "\n",
        "The loop will continue until the condition (correct password or max attempts) is met.\n"
      ],
      "metadata": {
        "id": "IvmPc-PPmJPZ"
      }
    },
    {
      "cell_type": "markdown",
      "source": [
        "#PRATICALS"
      ],
      "metadata": {
        "id": "mmCwAbLgq4Yn"
      }
    },
    {
      "cell_type": "code",
      "execution_count": 1,
      "metadata": {
        "id": "0dfsO_hoe-Ym",
        "colab": {
          "base_uri": "https://localhost:8080/"
        },
        "outputId": "647fca88-a0de-4107-b3a5-79aa74d0e56b"
      },
      "outputs": [
        {
          "output_type": "stream",
          "name": "stdout",
          "text": [
            "hello world\n"
          ]
        }
      ],
      "source": [
        "  #Write a Python program to print \"Hello, World!\n",
        "  print(\"hello world\")"
      ]
    },
    {
      "cell_type": "code",
      "source": [
        "# Write a Python program that displays your name and age\n",
        "# Declare variables for name and age\n",
        "name = \"sampreeth\"\n",
        "age = 20\n",
        "\n",
        "# Display name and age\n",
        "print(\"Name:\", name)\n",
        "print(\"Age:\", age)"
      ],
      "metadata": {
        "colab": {
          "base_uri": "https://localhost:8080/"
        },
        "id": "lwE6FSLXrlU_",
        "outputId": "f597449a-a643-4c1c-83be-d36b35535f3e"
      },
      "execution_count": 3,
      "outputs": [
        {
          "output_type": "stream",
          "name": "stdout",
          "text": [
            "Name: sampreeth\n",
            "Age: 20\n"
          ]
        }
      ]
    },
    {
      "cell_type": "markdown",
      "source": [],
      "metadata": {
        "id": "L6FOMLnwlf64"
      }
    },
    {
      "cell_type": "code",
      "source": [
        "#Write code to print all the pre-defined keywords in Python using the keyword library\n",
        "import keyword\n",
        "\n",
        "# Print all the pre-defined keywords in Python\n",
        "print(\"List of Python Keywords:\")\n",
        "print(keyword.kwlist)\n"
      ],
      "metadata": {
        "colab": {
          "base_uri": "https://localhost:8080/"
        },
        "id": "dliojvHzry1x",
        "outputId": "440e2603-6f5d-46b1-ea72-2555615c7be3"
      },
      "execution_count": 4,
      "outputs": [
        {
          "output_type": "stream",
          "name": "stdout",
          "text": [
            "List of Python Keywords:\n",
            "['False', 'None', 'True', 'and', 'as', 'assert', 'async', 'await', 'break', 'class', 'continue', 'def', 'del', 'elif', 'else', 'except', 'finally', 'for', 'from', 'global', 'if', 'import', 'in', 'is', 'lambda', 'nonlocal', 'not', 'or', 'pass', 'raise', 'return', 'try', 'while', 'with', 'yield']\n"
          ]
        }
      ]
    },
    {
      "cell_type": "code",
      "source": [
        "#Write a program that checks if a given word is a Python keyword\n",
        "import keyword\n",
        "\n",
        "# Function to check if the word is a Python keyword\n",
        "def check_keyword(word):\n",
        "    if keyword.iskeyword(word):\n",
        "        print(f\"'{word}' is a Python keyword.\")\n",
        "    else:\n",
        "        print(f\"'{word}' is NOT a Python keyword.\")\n",
        "\n",
        "# Input from user\n",
        "word = input(\"Enter a word to check if it's a Python keyword: \")\n",
        "check_keyword(word)"
      ],
      "metadata": {
        "colab": {
          "base_uri": "https://localhost:8080/"
        },
        "id": "cowOgMrssdAr",
        "outputId": "d3a7b781-6f47-43eb-e097-099a0a9d551a"
      },
      "execution_count": 5,
      "outputs": [
        {
          "output_type": "stream",
          "name": "stdout",
          "text": [
            "Enter a word to check if it's a Python keyword: if\n",
            "'if' is a Python keyword.\n"
          ]
        }
      ]
    },
    {
      "cell_type": "code",
      "source": [
        " #Create a list and tuple in Python, and demonstrate how attempting to change an element works differently\n",
        "#for each.\n",
        "my_list = [1, 2, 3, 4]\n",
        "my_tuple = (1, 2, 3, 4)\n",
        "\n",
        "# Attempt to change an element in the list\n",
        "print(\"Before changing my_list:\", my_list)\n",
        "my_list[2] = 100  # Change element at index 2\n",
        "print(\"After changing my_list:\", my_list)\n",
        "\n",
        "# Attempt to change an element in the tuple\n",
        "print(\"Before changing my_tuple:\", my_tuple)\n",
        "try:\n",
        "    my_tuple[2] = 100  # This will raise an error because tuples are immutable\n",
        "except TypeError as e:\n",
        "    print(\"Error when trying to change my_tuple:\", e)"
      ],
      "metadata": {
        "colab": {
          "base_uri": "https://localhost:8080/"
        },
        "id": "9C8VUfFaszkj",
        "outputId": "50cfc2b1-4cd6-4703-fd41-a113038f1b01"
      },
      "execution_count": 6,
      "outputs": [
        {
          "output_type": "stream",
          "name": "stdout",
          "text": [
            "Before changing my_list: [1, 2, 3, 4]\n",
            "After changing my_list: [1, 2, 100, 4]\n",
            "Before changing my_tuple: (1, 2, 3, 4)\n",
            "Error when trying to change my_tuple: 'tuple' object does not support item assignment\n"
          ]
        }
      ]
    },
    {
      "cell_type": "markdown",
      "source": [
        "\n"
      ],
      "metadata": {
        "id": "yWL0aZGFlD3J"
      }
    },
    {
      "cell_type": "code",
      "source": [
        "# Write a function to demonstrate the behavior of mutable and immutable arguments.\n",
        "# Function demonstrating mutable and immutable arguments\n",
        "def modify_values(mutable_arg, immutable_arg):\n",
        "    # Modifying the mutable argument (list)\n",
        "    print(\"Before modifying mutable_arg:\", mutable_arg)\n",
        "    mutable_arg.append(100)  # Adding an element to the list\n",
        "    print(\"After modifying mutable_arg:\", mutable_arg)\n",
        "\n",
        "    # Modifying the immutable argument (int)\n",
        "    print(\"Before modifying immutable_arg:\", immutable_arg)\n",
        "    immutable_arg += 10  # Adding 10 to the integer\n",
        "    print(\"After modifying immutable_arg:\", immutable_arg)\n",
        "\n",
        "# Test the function with mutable and immutable arguments\n",
        "my_list = [1, 2, 3]\n",
        "my_number = 5\n",
        "\n",
        "print(\"Initial values:\")\n",
        "print(\"my_list:\", my_list)\n",
        "print(\"my_number:\", my_number)\n",
        "\n",
        "# Call the function\n",
        "modify_values(my_list, my_number)\n",
        "\n",
        "# Print the final values after the function call\n",
        "print(\"\\nAfter function call:\")\n",
        "print(\"my_list:\", my_list)  # List should have been modified\n",
        "print(\"my_number:\", my_number)  # Integer should remain the same\n"
      ],
      "metadata": {
        "colab": {
          "base_uri": "https://localhost:8080/"
        },
        "id": "pXqhbtHotdSg",
        "outputId": "0e5aa4b1-4a19-414b-e495-92eead81e732"
      },
      "execution_count": 7,
      "outputs": [
        {
          "output_type": "stream",
          "name": "stdout",
          "text": [
            "Initial values:\n",
            "my_list: [1, 2, 3]\n",
            "my_number: 5\n",
            "Before modifying mutable_arg: [1, 2, 3]\n",
            "After modifying mutable_arg: [1, 2, 3, 100]\n",
            "Before modifying immutable_arg: 5\n",
            "After modifying immutable_arg: 15\n",
            "\n",
            "After function call:\n",
            "my_list: [1, 2, 3, 100]\n",
            "my_number: 5\n"
          ]
        }
      ]
    },
    {
      "cell_type": "code",
      "source": [
        "# Write a program that performs basic arithmetic operations on two user-input numbers.\n",
        "def basic_arithmetic_operations(num1, num2):\n",
        "    # Addition\n",
        "    addition = num1 + num2\n",
        "    print(f\"Addition: {num1} + {num2} = {addition}\")\n",
        "\n",
        "    # Subtraction\n",
        "    subtraction = num1 - num2\n",
        "    print(f\"Subtraction: {num1} - {num2} = {subtraction}\")\n",
        "\n",
        "    # Multiplication\n",
        "    multiplication = num1 * num2\n",
        "    print(f\"Multiplication: {num1} * {num2} = {multiplication}\")\n",
        "\n",
        "    # Division\n",
        "    if num2 != 0:\n",
        "        division = num1 / num2\n",
        "        print(f\"Division: {num1} / {num2} = {division}\")\n",
        "    else:\n",
        "        print(\"Division: Cannot divide by zero!\")\n",
        "\n",
        "# Input from the user\n",
        "try:\n",
        "    number1 = float(input(\"Enter the first number: \"))\n",
        "    number2 = float(input(\"Enter the second number: \"))\n",
        "\n",
        "    # Call the function to perform operations\n",
        "    basic_arithmetic_operations(number1, number2)\n",
        "except ValueError:\n",
        "    print(\"Invalid input! Please enter numeric values.\")"
      ],
      "metadata": {
        "colab": {
          "base_uri": "https://localhost:8080/"
        },
        "id": "CvpVkoSCtvh-",
        "outputId": "bef29ae0-ac14-4d08-d139-11595ea6e1f2"
      },
      "execution_count": 8,
      "outputs": [
        {
          "output_type": "stream",
          "name": "stdout",
          "text": [
            "Enter the first number: \n",
            "Invalid input! Please enter numeric values.\n"
          ]
        }
      ]
    },
    {
      "cell_type": "code",
      "source": [
        "# Write a program to demonstrate the use of logical operators.\n",
        "def logical_operators_demo(a, b):\n",
        "    # Using 'and' operator\n",
        "    if a > 0 and b > 0:\n",
        "        print(\"Both a and b are positive.\")\n",
        "    else:\n",
        "        print(\"Either a or b is not positive.\")\n",
        "\n",
        "    # Using 'or' operator\n",
        "    if a > 0 or b > 0:\n",
        "        print(\"At least one of a or b is positive.\")\n",
        "    else:\n",
        "        print(\"Neither a nor b is positive.\")\n",
        "\n",
        "    # Using 'not' operator\n",
        "    if not a < 0:\n",
        "        print(\"a is not negative.\")\n",
        "    else:\n",
        "        print(\"a is negative.\")\n",
        "\n",
        "# Input from the user\n",
        "try:\n",
        "    num1 = int(input(\"Enter the first number: \"))\n",
        "    num2 = int(input(\"Enter the second number: \"))\n",
        "\n",
        "    # Call the function to demonstrate logical operators\n",
        "    logical_operators_demo(num1, num2)\n",
        "except ValueError:\n",
        "    print(\"Invalid input! Please enter integers.\")"
      ],
      "metadata": {
        "colab": {
          "base_uri": "https://localhost:8080/"
        },
        "id": "xbnNwGc9uwCv",
        "outputId": "2be9a6bc-786b-48d9-8978-fb8882501447"
      },
      "execution_count": 9,
      "outputs": [
        {
          "output_type": "stream",
          "name": "stdout",
          "text": [
            "Enter the first number: 77\n",
            "Enter the second number: 66\n",
            "Both a and b are positive.\n",
            "At least one of a or b is positive.\n",
            "a is not negative.\n"
          ]
        }
      ]
    },
    {
      "cell_type": "code",
      "source": [
        "#Write a Python program to convert user input from string to integer, float, and boolean types.\n",
        "\n",
        "user_input = input(\"Enter a value: \")\n",
        "\n",
        "# Converting input to different types\n",
        "try:\n",
        "    # Convert to integer\n",
        "    integer_value = int(user_input)\n",
        "    print(\"Integer:\", integer_value)\n",
        "\n",
        "    # Convert to float\n",
        "    float_value = float(user_input)\n",
        "    print(\"Float:\", float_value)\n",
        "\n",
        "    # Convert to boolean\n",
        "    # If the input is an empty string, it converts to False; else, it converts to True\n",
        "    boolean_value = bool(user_input)\n",
        "    print(\"Boolean:\", boolean_value)\n",
        "\n",
        "except ValueError:\n",
        "    print(\"Invalid input! The value cannot be converted to integer or float.\")"
      ],
      "metadata": {
        "colab": {
          "base_uri": "https://localhost:8080/"
        },
        "id": "kLCc7rxKvGFq",
        "outputId": "742e9d8e-5efe-4aa8-feef-cb904fa882f2"
      },
      "execution_count": 10,
      "outputs": [
        {
          "output_type": "stream",
          "name": "stdout",
          "text": [
            "Enter a value: sdas\n",
            "Invalid input! The value cannot be converted to integer or float.\n"
          ]
        }
      ]
    },
    {
      "cell_type": "code",
      "source": [
        "#Write code to demonstrate type casting with list elements.\n",
        "# Original list of strings\n",
        "string_list = ['1', '2', '3.5', '4']\n",
        "\n",
        "# Convert string elements to integers and floats\n",
        "int_list = [int(x) if '.' not in x else float(x) for x in string_list]\n",
        "\n",
        "# Print the original list and the new list after type casting\n",
        "print(\"Original list:\", string_list)\n",
        "print(\"List after type casting:\", int_list)"
      ],
      "metadata": {
        "colab": {
          "base_uri": "https://localhost:8080/"
        },
        "id": "LBUH4VDWv-BA",
        "outputId": "5d8cf47a-d2e5-4b8c-c9d6-240ab1bfffde"
      },
      "execution_count": 11,
      "outputs": [
        {
          "output_type": "stream",
          "name": "stdout",
          "text": [
            "Original list: ['1', '2', '3.5', '4']\n",
            "List after type casting: [1, 2, 3.5, 4]\n"
          ]
        }
      ]
    },
    {
      "cell_type": "code",
      "source": [
        "# Function to check if the number is positive, negative, or zero\n",
        "def check_number(num):\n",
        "    if num > 0:\n",
        "        print(f\"{num} is a positive number.\")\n",
        "    elif num < 0:\n",
        "        print(f\"{num} is a negative number.\")\n",
        "    else:\n",
        "        print(f\"{num} is zero.\")\n",
        "\n",
        "# Input from the user\n",
        "try:\n",
        "    number = float(input(\"Enter a number: \"))\n",
        "    check_number(number)\n",
        "except ValueError:\n",
        "    print(\"Invalid input! Please enter a valid number.\")\n"
      ],
      "metadata": {
        "colab": {
          "base_uri": "https://localhost:8080/"
        },
        "id": "O_LUMZDqwYnx",
        "outputId": "b3383d3e-eeaf-4703-d776-8a8ae301ceac"
      },
      "execution_count": 20,
      "outputs": [
        {
          "output_type": "stream",
          "name": "stdout",
          "text": [
            "Enter a number: 55\n",
            "55.0 is a positive number.\n"
          ]
        }
      ]
    },
    {
      "cell_type": "code",
      "source": [
        " #Write a for loop to print numbers from 1 to 10.\n",
        " for number in range(1, 11):\n",
        "    print(number)"
      ],
      "metadata": {
        "colab": {
          "base_uri": "https://localhost:8080/"
        },
        "id": "4hs7yoIbxIn3",
        "outputId": "50509f52-5e28-401b-f74e-a1317bcb0037"
      },
      "execution_count": 21,
      "outputs": [
        {
          "output_type": "stream",
          "name": "stdout",
          "text": [
            "1\n",
            "2\n",
            "3\n",
            "4\n",
            "5\n",
            "6\n",
            "7\n",
            "8\n",
            "9\n",
            "10\n"
          ]
        }
      ]
    },
    {
      "cell_type": "code",
      "source": [
        "#Write a Python program to find the sum of all even numbers between 1 and 50.\n",
        "# Initialize the sum to 0\n",
        "sum_of_even_numbers = 0\n",
        "\n",
        "# Loop through numbers from 1 to 50\n",
        "for number in range(1, 51):\n",
        "    if number % 2 == 0:  # Check if the number is even\n",
        "        sum_of_even_numbers += number  # Add the even number to the sum\n",
        "\n",
        "# Print the sum of even numbers\n",
        "print(\"Sum of all even numbers between 1 and 50:\", sum_of_even_numbers)\n"
      ],
      "metadata": {
        "colab": {
          "base_uri": "https://localhost:8080/"
        },
        "id": "uCJLleFLyPAM",
        "outputId": "f37add2b-cc19-4b54-9b99-511700a2bdb9"
      },
      "execution_count": 22,
      "outputs": [
        {
          "output_type": "stream",
          "name": "stdout",
          "text": [
            "Sum of all even numbers between 1 and 50: 650\n"
          ]
        }
      ]
    },
    {
      "cell_type": "code",
      "source": [
        "#Write a program to reverse a string using a while loop\n",
        "# Function to reverse a string using a while loop\n",
        "def reverse_string(input_string):\n",
        "    reversed_string = \"\"  # Initialize an empty string to store the reversed string\n",
        "    index = len(input_string) - 1  # Start from the last character of the string\n",
        "\n",
        "    # Loop through the string backwards using a while loop\n",
        "    while index >= 0:\n",
        "        reversed_string += input_string[index]  # Append the character to reversed_string\n",
        "        index -= 1  # Move to the previous character\n",
        "\n",
        "    return reversed_string\n",
        "\n",
        "# Get user input\n",
        "user_input = input(\"Enter a string to reverse: \")\n",
        "\n",
        "# Reverse the string and print the result\n",
        "reversed_str = reverse_string(user_input)\n",
        "print(\"Reversed string:\", reversed_str)\n"
      ],
      "metadata": {
        "colab": {
          "base_uri": "https://localhost:8080/"
        },
        "id": "DLKKCmKBymJ_",
        "outputId": "4f954a9c-3ac2-4a94-8335-48bdcc335cf5"
      },
      "execution_count": 23,
      "outputs": [
        {
          "output_type": "stream",
          "name": "stdout",
          "text": [
            "Enter a string to reverse: sampi\n",
            "Reversed string: ipmas\n"
          ]
        }
      ]
    },
    {
      "cell_type": "code",
      "source": [
        "# Write a Python program to calculate the factorial of a number provided by the user using a while loop\n",
        "# Function to calculate the factorial using a while loop\n",
        "def calculate_factorial(number):\n",
        "    factorial = 1  # Initialize the factorial variable to 1\n",
        "\n",
        "    # Check if the number is negative\n",
        "    if number < 0:\n",
        "        return \"Factorial is not defined for negative numbers\"\n",
        "\n",
        "    # Calculate factorial using a while loop\n",
        "    while number > 1:\n",
        "        factorial *= number  # Multiply current factorial by the number\n",
        "        number -= 1  # Decrease the number by 1\n",
        "\n",
        "    return factorial\n",
        "\n",
        "# Get user input\n",
        "try:\n",
        "    num = int(input(\"Enter a number to calculate its factorial: \"))\n",
        "    result = calculate_factorial(num)\n",
        "    print(f\"The factorial is: {result}\")\n",
        "except ValueError:\n",
        "    print(\"Invalid input! Please enter a valid integer.\")\n"
      ],
      "metadata": {
        "id": "iRT_MwWSzI6Q"
      },
      "execution_count": null,
      "outputs": []
    }
  ]
}